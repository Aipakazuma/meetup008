{
 "cells": [
  {
   "cell_type": "code",
   "execution_count": 1,
   "metadata": {
    "collapsed": true
   },
   "outputs": [],
   "source": [
    "%matplotlib inline"
   ]
  },
  {
   "cell_type": "code",
   "execution_count": 2,
   "metadata": {
    "collapsed": true
   },
   "outputs": [],
   "source": [
    "from sklearn import datasets\n",
    "from sklearn import svm\n",
    "from sklearn.decomposition import PCA\n",
    "import numpy as np\n",
    "import matplotlib.pyplot as plt"
   ]
  },
  {
   "cell_type": "code",
   "execution_count": 3,
   "metadata": {
    "collapsed": true
   },
   "outputs": [],
   "source": [
    "iris = datasets.load_iris()"
   ]
  },
  {
   "cell_type": "code",
   "execution_count": 4,
   "metadata": {
    "collapsed": true
   },
   "outputs": [],
   "source": [
    "pca = PCA(n_components=2)\n",
    "data= pca.fit(iris.data).transform(iris.data)"
   ]
  },
  {
   "cell_type": "code",
   "execution_count": 5,
   "metadata": {
    "collapsed": true
   },
   "outputs": [],
   "source": [
    "datamax = data.max(axis=0)+1\n",
    "datamin = data.min(axis=0)-1"
   ]
  },
  {
   "cell_type": "code",
   "execution_count": 6,
   "metadata": {
    "collapsed": true
   },
   "outputs": [],
   "source": [
    "n = 200\n",
    "X,Y = np.meshgrid(np.linspace(datamin[0], datamax[1],n), np.linspace(datamin[1], datamax[1], n))"
   ]
  },
  {
   "cell_type": "code",
   "execution_count": 7,
   "metadata": {
    "collapsed": false
   },
   "outputs": [
    {
     "data": {
      "text/plain": [
       "array([[-4.22520045, -4.19259898, -4.15999751, ...,  2.19728902,\n",
       "         2.22989048,  2.26249195],\n",
       "       [-4.22520045, -4.19259898, -4.15999751, ...,  2.19728902,\n",
       "         2.22989048,  2.26249195],\n",
       "       [-4.22520045, -4.19259898, -4.15999751, ...,  2.19728902,\n",
       "         2.22989048,  2.26249195],\n",
       "       ..., \n",
       "       [-4.22520045, -4.19259898, -4.15999751, ...,  2.19728902,\n",
       "         2.22989048,  2.26249195],\n",
       "       [-4.22520045, -4.19259898, -4.15999751, ...,  2.19728902,\n",
       "         2.22989048,  2.26249195],\n",
       "       [-4.22520045, -4.19259898, -4.15999751, ...,  2.19728902,\n",
       "         2.22989048,  2.26249195]])"
      ]
     },
     "execution_count": 7,
     "metadata": {},
     "output_type": "execute_result"
    }
   ],
   "source": [
    "X"
   ]
  },
  {
   "cell_type": "code",
   "execution_count": 8,
   "metadata": {
    "collapsed": false
   },
   "outputs": [
    {
     "data": {
      "text/plain": [
       "array([-4.22520045, -4.19259898, -4.15999751, ...,  2.19728902,\n",
       "        2.22989048,  2.26249195])"
      ]
     },
     "execution_count": 8,
     "metadata": {},
     "output_type": "execute_result"
    }
   ],
   "source": [
    "X.ravel()"
   ]
  },
  {
   "cell_type": "code",
   "execution_count": 9,
   "metadata": {
    "collapsed": false
   },
   "outputs": [
    {
     "data": {
      "text/plain": [
       "array([[-2.37052404, -2.37052404, -2.37052404, ..., -2.37052404,\n",
       "        -2.37052404, -2.37052404],\n",
       "       [-2.34724255, -2.34724255, -2.34724255, ..., -2.34724255,\n",
       "        -2.34724255, -2.34724255],\n",
       "       [-2.32396106, -2.32396106, -2.32396106, ..., -2.32396106,\n",
       "        -2.32396106, -2.32396106],\n",
       "       ..., \n",
       "       [ 2.21592898,  2.21592898,  2.21592898, ...,  2.21592898,\n",
       "         2.21592898,  2.21592898],\n",
       "       [ 2.23921047,  2.23921047,  2.23921047, ...,  2.23921047,\n",
       "         2.23921047,  2.23921047],\n",
       "       [ 2.26249195,  2.26249195,  2.26249195, ...,  2.26249195,\n",
       "         2.26249195,  2.26249195]])"
      ]
     },
     "execution_count": 9,
     "metadata": {},
     "output_type": "execute_result"
    }
   ],
   "source": [
    "Y"
   ]
  },
  {
   "cell_type": "code",
   "execution_count": 10,
   "metadata": {
    "collapsed": false
   },
   "outputs": [
    {
     "data": {
      "text/plain": [
       "array([-2.37052404, -2.37052404, -2.37052404, ...,  2.26249195,\n",
       "        2.26249195,  2.26249195])"
      ]
     },
     "execution_count": 10,
     "metadata": {},
     "output_type": "execute_result"
    }
   ],
   "source": [
    "Y.ravel()"
   ]
  },
  {
   "cell_type": "code",
   "execution_count": 11,
   "metadata": {
    "collapsed": false
   },
   "outputs": [
    {
     "data": {
      "text/plain": [
       "SVC(C=1.0, cache_size=200, class_weight=None, coef0=0.0,\n",
       "  decision_function_shape=None, degree=3, gamma='auto', kernel='rbf',\n",
       "  max_iter=-1, probability=False, random_state=None, shrinking=True,\n",
       "  tol=0.001, verbose=False)"
      ]
     },
     "execution_count": 11,
     "metadata": {},
     "output_type": "execute_result"
    }
   ],
   "source": [
    "svc = svm.SVC()\n",
    "svc.fit(data, iris.target)"
   ]
  },
  {
   "cell_type": "code",
   "execution_count": 12,
   "metadata": {
    "collapsed": true
   },
   "outputs": [],
   "source": [
    "Z = svc.predict(np.c_[X.ravel(),Y.ravel()])"
   ]
  },
  {
   "cell_type": "code",
   "execution_count": 13,
   "metadata": {
    "collapsed": false
   },
   "outputs": [
    {
     "data": {
      "text/plain": [
       "array([2, 2, 2, ..., 2, 2, 2])"
      ]
     },
     "execution_count": 13,
     "metadata": {},
     "output_type": "execute_result"
    }
   ],
   "source": [
    "Z"
   ]
  },
  {
   "cell_type": "code",
   "execution_count": 14,
   "metadata": {
    "collapsed": false
   },
   "outputs": [
    {
     "data": {
      "image/png": "[encoded data removed]",
      "text/plain": [
       "<matplotlib.figure.Figure at 0x10a579c90>"
      ]
     },
     "metadata": {},
     "output_type": "display_data"
    }
   ],
   "source": [
    "plt.contour(X, Y, Z.reshape(X.shape),colors=\"k\")\n",
    "for c, s in zip([0,1,2], [\"o\", \"+\", \"x\"]):\n",
    "    d = data[iris.target == c]\n",
    "    plt.scatter(d[:,0], d[:,1], c=\"k\", marker=s)"
   ]
  },
  {
   "cell_type": "code",
   "execution_count": 15,
   "metadata": {
    "collapsed": false
   },
   "outputs": [
    {
     "data": {
      "image/png": "[encoded data removed]",
      "text/plain": [
       "<matplotlib.figure.Figure at 0x10a579610>"
      ]
     },
     "metadata": {},
     "output_type": "display_data"
    }
   ],
   "source": [
    "plt.contourf(X, Y, Z.reshape(X.shape),levels=[-0.5,0.5,1.5,2.5],colors=[\"r\",\"g\",\"b\"])\n",
    "for i, c in zip([0,1,2], [\"r\", \"g\", \"b\"]):\n",
    "    d = data[iris.target == i]\n",
    "    plt.scatter(d[:,0], d[:,1], c=c)"
   ]
  },
  {
   "cell_type": "code",
   "execution_count": 16,
   "metadata": {
    "collapsed": true
   },
   "outputs": [],
   "source": [
    "datamax = data.max(axis=0)+3\n",
    "datamin = data.min(axis=0)-3\n",
    "n = 200\n",
    "X,Y = np.meshgrid(np.linspace(datamin[0], datamax[1],n), np.linspace(datamin[1], datamax[1], n))\n",
    "Z = svc.predict(np.c_[X.ravel(),Y.ravel()])"
   ]
  },
  {
   "cell_type": "code",
   "execution_count": 17,
   "metadata": {
    "collapsed": false
   },
   "outputs": [
    {
     "data": {
      "image/png": "[encoded data removed]",
      "text/plain": [
       "<matplotlib.figure.Figure at 0x10aa6a850>"
      ]
     },
     "metadata": {},
     "output_type": "display_data"
    }
   ],
   "source": [
    "plt.contourf(X, Y, Z.reshape(X.shape),levels=[-0.5,0.5,1.5,2.5],colors=[\"r\",\"g\",\"b\"])\n",
    "for i, c in zip([0,1,2], [\"r\", \"g\", \"b\"]):\n",
    "    d = data[iris.target == i]\n",
    "    plt.scatter(d[:,0], d[:,1], c=c)"
   ]
  },
  {
   "cell_type": "code",
   "execution_count": null,
   "metadata": {
    "collapsed": true
   },
   "outputs": [],
   "source": []
  }
 ],
 "metadata": {
  "kernelspec": {
   "display_name": "Python 2",
   "language": "python",
   "name": "python2"
  },
  "language_info": {
   "codemirror_mode": {
    "name": "ipython",
    "version": 2
   },
   "file_extension": ".py",
   "mimetype": "text/x-python",
   "name": "python",
   "nbconvert_exporter": "python",
   "pygments_lexer": "ipython2",
   "version": "2.7.10"
  }
 },
 "nbformat": 4,
 "nbformat_minor": 0
}
