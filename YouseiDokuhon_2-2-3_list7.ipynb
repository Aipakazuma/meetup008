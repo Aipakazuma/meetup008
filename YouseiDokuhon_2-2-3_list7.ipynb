{
 "cells": [
  {
   "cell_type": "code",
   "execution_count": 1,
   "metadata": {
    "collapsed": true
   },
   "outputs": [],
   "source": [
    "%matplotlib inline"
   ]
  },
  {
   "cell_type": "code",
   "execution_count": 2,
   "metadata": {
    "collapsed": true
   },
   "outputs": [],
   "source": [
    "import numpy as np\n",
    "import matplotlib.pyplot as plt\n",
    "from sklearn.cluster import KMeans"
   ]
  },
  {
   "cell_type": "code",
   "execution_count": 3,
   "metadata": {
    "collapsed": true
   },
   "outputs": [],
   "source": [
    "np.random.seed(0)"
   ]
  },
  {
   "cell_type": "code",
   "execution_count": 4,
   "metadata": {
    "collapsed": true
   },
   "outputs": [],
   "source": [
    "X = np.r_[np.random.randn(30,2) + [2,2], np.random.randn(30,2) + [0,-2], np.random.randn(30,2) + [-2, 2]]"
   ]
  },
  {
   "cell_type": "code",
   "execution_count": 5,
   "metadata": {
    "collapsed": false
   },
   "outputs": [
    {
     "data": {
      "text/plain": [
       "array([[ 3.76405235,  2.40015721],\n",
       "       [ 2.97873798,  4.2408932 ],\n",
       "       [ 3.86755799,  1.02272212],\n",
       "       [ 2.95008842,  1.84864279],\n",
       "       [ 1.89678115,  2.4105985 ],\n",
       "       [ 2.14404357,  3.45427351],\n",
       "       [ 2.76103773,  2.12167502],\n",
       "       [ 2.44386323,  2.33367433],\n",
       "       [ 3.49407907,  1.79484174],\n",
       "       [ 2.3130677 ,  1.14590426],\n",
       "       [-0.55298982,  2.6536186 ],\n",
       "       [ 2.8644362 ,  1.25783498],\n",
       "       [ 4.26975462,  0.54563433],\n",
       "       [ 2.04575852,  1.81281615],\n",
       "       [ 3.53277921,  3.46935877],\n",
       "       [ 2.15494743,  2.37816252],\n",
       "       [ 1.11221425,  0.01920353],\n",
       "       [ 1.65208785,  2.15634897],\n",
       "       [ 3.23029068,  3.20237985],\n",
       "       [ 1.61267318,  1.69769725],\n",
       "       [ 0.95144703,  0.57998206],\n",
       "       [ 0.29372981,  3.9507754 ],\n",
       "       [ 1.49034782,  1.5619257 ],\n",
       "       [ 0.74720464,  2.77749036],\n",
       "       [ 0.38610215,  1.78725972],\n",
       "       [ 1.10453344,  2.3869025 ],\n",
       "       [ 1.48919486,  0.81936782],\n",
       "       [ 1.97181777,  2.42833187],\n",
       "       [ 2.06651722,  2.3024719 ],\n",
       "       [ 1.36567791,  1.63725883],\n",
       "       [-0.67246045, -2.35955316],\n",
       "       [-0.81314628, -3.7262826 ],\n",
       "       [ 0.17742614, -2.40178094],\n",
       "       [-1.63019835, -1.53721774],\n",
       "       [-0.90729836, -1.9480546 ],\n",
       "       [ 0.72909056, -1.87101709],\n",
       "       [ 1.13940068, -3.23482582],\n",
       "       [ 0.40234164, -2.68481009],\n",
       "       [-0.87079715, -2.57884966],\n",
       "       [-0.31155253, -1.94383466],\n",
       "       [-1.16514984, -1.09917351],\n",
       "       [ 0.46566244, -3.53624369],\n",
       "       [ 1.48825219, -0.10411082],\n",
       "       [ 1.17877957, -2.17992484],\n",
       "       [-1.07075262, -0.94554827],\n",
       "       [-0.40317695, -0.77755493],\n",
       "       [ 0.20827498, -1.02336096],\n",
       "       [ 0.3563664 , -1.29342683],\n",
       "       [ 0.01050002, -0.21412951],\n",
       "       [ 0.12691209, -1.59801064],\n",
       "       [ 1.8831507 , -3.34775906],\n",
       "       [-1.270485  , -1.03060329],\n",
       "       [-1.17312341, -0.05637881],\n",
       "       [-0.41361898, -2.74745481],\n",
       "       [ 1.92294203, -0.51948521],\n",
       "       [ 1.86755896, -1.09395534],\n",
       "       [-0.86122569, -0.08993505],\n",
       "       [-0.26800337, -1.1975436 ],\n",
       "       [ 0.94725197, -2.15501009],\n",
       "       [ 0.61407937, -1.07779333],\n",
       "       [-1.62357447,  0.90059921],\n",
       "       [-1.70176183,  3.3263859 ],\n",
       "       [-2.69456786,  1.85036546],\n",
       "       [-2.43515355,  3.84926373],\n",
       "       [-1.32770524,  2.40746184],\n",
       "       [-2.76991607,  2.53924919],\n",
       "       [-2.67433266,  2.03183056],\n",
       "       [-2.63584608,  2.67643329],\n",
       "       [-1.42340918,  1.79170124],\n",
       "       [-1.60399329,  0.90693849],\n",
       "       [-3.49125759,  2.4393917 ],\n",
       "       [-1.8333265 ,  2.63503144],\n",
       "       [ 0.38314477,  2.94447949],\n",
       "       [-2.91282223,  3.11701629],\n",
       "       [-3.31590741,  1.5384154 ],\n",
       "       [-2.06824161,  3.71334272],\n",
       "       [-2.74475482,  1.17356146],\n",
       "       [-2.09845252,  1.33652171],\n",
       "       [-0.87336408,  0.92006849],\n",
       "       [-3.14746865,  1.56217996],\n",
       "       [-2.49803245,  3.92953205],\n",
       "       [-1.05057919,  2.08755124],\n",
       "       [-3.22543552,  2.84436298],\n",
       "       [-3.00021535,  0.4552289 ],\n",
       "       [-0.81197021,  2.31694261],\n",
       "       [-1.07914118,  2.31872765],\n",
       "       [-1.14316939,  1.34897441],\n",
       "       [-3.03424284,  2.68159452],\n",
       "       [-2.80340966,  1.31045022],\n",
       "       [-2.4555325 ,  2.01747916]])"
      ]
     },
     "execution_count": 5,
     "metadata": {},
     "output_type": "execute_result"
    }
   ],
   "source": [
    "X"
   ]
  },
  {
   "cell_type": "code",
   "execution_count": 6,
   "metadata": {
    "collapsed": true
   },
   "outputs": [],
   "source": [
    "kmeans = KMeans(n_clusters=3)"
   ]
  },
  {
   "cell_type": "code",
   "execution_count": 7,
   "metadata": {
    "collapsed": false
   },
   "outputs": [
    {
     "data": {
      "text/plain": [
       "KMeans(copy_x=True, init='k-means++', max_iter=300, n_clusters=3, n_init=10,\n",
       "    n_jobs=1, precompute_distances='auto', random_state=None, tol=0.0001,\n",
       "    verbose=0)"
      ]
     },
     "execution_count": 7,
     "metadata": {},
     "output_type": "execute_result"
    }
   ],
   "source": [
    "kmeans.fit(X)"
   ]
  },
  {
   "cell_type": "code",
   "execution_count": 8,
   "metadata": {
    "collapsed": true
   },
   "outputs": [],
   "source": [
    "markers = [\"o\", \"v\", \"x\"]"
   ]
  },
  {
   "cell_type": "code",
   "execution_count": 9,
   "metadata": {
    "collapsed": false
   },
   "outputs": [
    {
     "data": {
      "image/png": "[encoded data removed]",
      "text/plain": [
       "<matplotlib.figure.Figure at 0x10a6a0f50>"
      ]
     },
     "metadata": {},
     "output_type": "display_data"
    }
   ],
   "source": [
    "for i in range(3):\n",
    "    xx = X[kmeans.labels_ == i]\n",
    "    plt.scatter(xx[:,0], xx[:,1], c=\"k\", marker = markers[i])    "
   ]
  },
  {
   "cell_type": "code",
   "execution_count": 10,
   "metadata": {
    "collapsed": false
   },
   "outputs": [
    {
     "data": {
      "image/png": "[encoded data removed]",
      "text/plain": [
       "<matplotlib.figure.Figure at 0x10a6a0910>"
      ]
     },
     "metadata": {},
     "output_type": "display_data"
    }
   ],
   "source": [
    "kmeans = KMeans(n_clusters=4)\n",
    "kmeans.fit(X)\n",
    "markers = [\"o\", \"v\", \"x\", \"+\"]\n",
    "for i in range(4):\n",
    "    xx = X[kmeans.labels_ == i]\n",
    "    plt.scatter(xx[:,0], xx[:,1], c=\"k\", marker = markers[i])   "
   ]
  },
  {
   "cell_type": "code",
   "execution_count": 11,
   "metadata": {
    "collapsed": false
   },
   "outputs": [
    {
     "data": {
      "image/png": "[encoded data removed]",
      "text/plain": [
       "<matplotlib.figure.Figure at 0x10a9e5cd0>"
      ]
     },
     "metadata": {},
     "output_type": "display_data"
    }
   ],
   "source": [
    "kmeans = KMeans(n_clusters=5)\n",
    "kmeans.fit(X)\n",
    "markers = [\"o\", \"v\", \"x\", \"+\", \"^\"]\n",
    "for i in range(5):\n",
    "    xx = X[kmeans.labels_ == i]\n",
    "    plt.scatter(xx[:,0], xx[:,1], c=\"k\", marker = markers[i])"
   ]
  }
 ],
 "metadata": {
  "kernelspec": {
   "display_name": "Python 2",
   "language": "python",
   "name": "python2"
  },
  "language_info": {
   "codemirror_mode": {
    "name": "ipython",
    "version": 2
   },
   "file_extension": ".py",
   "mimetype": "text/x-python",
   "name": "python",
   "nbconvert_exporter": "python",
   "pygments_lexer": "ipython2",
   "version": "2.7.10"
  }
 },
 "nbformat": 4,
 "nbformat_minor": 0
}
