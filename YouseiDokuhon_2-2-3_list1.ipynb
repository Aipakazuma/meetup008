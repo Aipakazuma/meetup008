{
 "cells": [
  {
   "cell_type": "code",
   "execution_count": 1,
   "metadata": {
    "collapsed": true
   },
   "outputs": [],
   "source": [
    "%matplotlib inline"
   ]
  },
  {
   "cell_type": "code",
   "execution_count": 2,
   "metadata": {
    "collapsed": true
   },
   "outputs": [],
   "source": [
    "import numpy as np"
   ]
  },
  {
   "cell_type": "code",
   "execution_count": 3,
   "metadata": {
    "collapsed": true
   },
   "outputs": [],
   "source": [
    "import matplotlib.pyplot as plt"
   ]
  },
  {
   "cell_type": "code",
   "execution_count": 4,
   "metadata": {
    "collapsed": true
   },
   "outputs": [],
   "source": [
    "from sklearn import linear_model, datasets"
   ]
  },
  {
   "cell_type": "code",
   "execution_count": 5,
   "metadata": {
    "collapsed": true
   },
   "outputs": [],
   "source": [
    "np.random.seed(0)"
   ]
  },
  {
   "cell_type": "code",
   "execution_count": 6,
   "metadata": {
    "collapsed": true
   },
   "outputs": [],
   "source": [
    "regdata = datasets.make_regression(100,1,noise=20.0)"
   ]
  },
  {
   "cell_type": "code",
   "execution_count": 7,
   "metadata": {
    "collapsed": false
   },
   "outputs": [
    {
     "data": {
      "text/plain": [
       "(array([[-0.35955316],\n",
       "        [ 0.97663904],\n",
       "        [ 0.40234164],\n",
       "        [-0.81314628],\n",
       "        [-0.88778575],\n",
       "        [ 0.44386323],\n",
       "        [-0.97727788],\n",
       "        [ 0.42833187],\n",
       "        [ 0.20827498],\n",
       "        [-0.31155253],\n",
       "        [-0.51080514],\n",
       "        [ 0.12691209],\n",
       "        [-1.53624369],\n",
       "        [-0.40178094],\n",
       "        [ 0.6536186 ],\n",
       "        [ 1.17877957],\n",
       "        [-0.17992484],\n",
       "        [ 1.78587049],\n",
       "        [ 1.45427351],\n",
       "        [-0.68481009],\n",
       "        [ 0.97873798],\n",
       "        [ 1.89588918],\n",
       "        [-0.4380743 ],\n",
       "        [ 0.3130677 ],\n",
       "        [ 0.76103773],\n",
       "        [ 0.77749036],\n",
       "        [ 1.9507754 ],\n",
       "        [ 0.33367433],\n",
       "        [-0.34791215],\n",
       "        [ 1.53277921],\n",
       "        [-0.89546656],\n",
       "        [-0.57884966],\n",
       "        [-1.04855297],\n",
       "        [ 0.37816252],\n",
       "        [ 0.01050002],\n",
       "        [ 0.46278226],\n",
       "        [ 0.14404357],\n",
       "        [-0.40317695],\n",
       "        [ 0.0519454 ],\n",
       "        [-1.25279536],\n",
       "        [ 1.05445173],\n",
       "        [ 0.40015721],\n",
       "        [-1.70627019],\n",
       "        [ 2.2408932 ],\n",
       "        [ 0.17742614],\n",
       "        [-0.20515826],\n",
       "        [ 1.23029068],\n",
       "        [-0.85409574],\n",
       "        [ 1.76405235],\n",
       "        [ 0.4105985 ],\n",
       "        [-0.90729836],\n",
       "        [-1.42001794],\n",
       "        [ 0.46566244],\n",
       "        [ 0.90082649],\n",
       "        [ 1.13940068],\n",
       "        [ 0.40198936],\n",
       "        [ 0.3869025 ],\n",
       "        [-1.7262826 ],\n",
       "        [ 1.46935877],\n",
       "        [-0.18718385],\n",
       "        [-0.87079715],\n",
       "        [ 0.3024719 ],\n",
       "        [ 1.20237985],\n",
       "        [-1.98079647],\n",
       "        [-2.55298982],\n",
       "        [-1.45436567],\n",
       "        [-0.02818223],\n",
       "        [ 0.15494743],\n",
       "        [ 1.22244507],\n",
       "        [ 1.86755799],\n",
       "        [ 2.26975462],\n",
       "        [-0.74216502],\n",
       "        [ 0.06651722],\n",
       "        [ 1.49407907],\n",
       "        [-0.67246045],\n",
       "        [-1.63019835],\n",
       "        [ 0.12898291],\n",
       "        [ 0.95008842],\n",
       "        [ 1.48825219],\n",
       "        [ 0.05616534],\n",
       "        [ 0.8644362 ],\n",
       "        [ 0.70657317],\n",
       "        [-0.15135721],\n",
       "        [-1.07075262],\n",
       "        [-0.10321885],\n",
       "        [-0.30230275],\n",
       "        [-0.38732682],\n",
       "        [ 0.72909056],\n",
       "        [ 0.12167502],\n",
       "        [-0.50965218],\n",
       "        [-1.23482582],\n",
       "        [-0.21274028],\n",
       "        [-0.63432209],\n",
       "        [ 0.15634897],\n",
       "        [ 0.04575852],\n",
       "        [-1.16514984],\n",
       "        [-0.36274117],\n",
       "        [ 0.3563664 ],\n",
       "        [-1.61389785],\n",
       "        [-1.18063218]]),\n",
       " array([ -24.67192895,    1.2842068 ,    6.06033557,    1.78147734,\n",
       "         -33.77202985,   37.17742373,  -71.22464457,   17.0657657 ,\n",
       "          34.07428382,  -31.50041797,  -33.28419358,   13.22539423,\n",
       "         -87.86604817,  -39.63961681,   33.67939492,   70.92281173,\n",
       "          -2.62705419,   72.02496491,   98.91162315,  -18.60350664,\n",
       "          62.10062253,   74.58575549,   19.09907672,   15.06414713,\n",
       "          58.08452661,   78.64098834,   90.96259952,   10.96694539,\n",
       "          20.05863712,   72.17616618,  -55.50206871,  -19.30146574,\n",
       "         -57.66553143,   44.92532351,  -43.92216645,   41.93402862,\n",
       "          36.58989574,   -9.02514481,  -33.1469412 ,  -38.81588741,\n",
       "          24.04860806,   18.02776344,  -68.36827069,   69.44160984,\n",
       "          20.54448353,  -48.51131299,   79.02558001,  -33.90420151,\n",
       "          69.94877747,  -17.45773982,  -11.6672389 ,  -83.79199748,\n",
       "         -18.27434762,    8.46390826,   40.61035963,   21.87121825,\n",
       "         -16.02269223, -119.0521092 ,   70.44247566,   -2.18612895,\n",
       "         -34.74218582,    0.19691974,   34.59905769,  -92.37435473,\n",
       "        -119.92606588,  -60.64605508,  -32.31499153,  -32.24678866,\n",
       "          38.13276643,   95.91178356,   95.28973365,  -22.75337973,\n",
       "         -33.40620977,   44.04602863,  -24.59258887,  -84.64371307,\n",
       "          27.25318669,   18.86567717,   27.83954289,   19.54535209,\n",
       "          41.08476274,   24.02645239,  -10.59792403,  -44.44630121,\n",
       "           7.71646239,  -38.63442381,  -14.76284398,   39.39112074,\n",
       "          31.17118243,    2.34457459,  -39.69468752,    3.20497002,\n",
       "         -45.44924587,   -0.65480553,  -16.77111125,  -47.49877843,\n",
       "          14.43947089,    8.46416173,  -37.12382346,  -60.79837024]))"
      ]
     },
     "execution_count": 7,
     "metadata": {},
     "output_type": "execute_result"
    }
   ],
   "source": [
    "regdata"
   ]
  },
  {
   "cell_type": "code",
   "execution_count": 8,
   "metadata": {
    "collapsed": true
   },
   "outputs": [],
   "source": [
    "lin = linear_model.LinearRegression()"
   ]
  },
  {
   "cell_type": "code",
   "execution_count": 9,
   "metadata": {
    "collapsed": false
   },
   "outputs": [
    {
     "data": {
      "text/plain": [
       "LinearRegression(copy_X=True, fit_intercept=True, n_jobs=1, normalize=False)"
      ]
     },
     "execution_count": 9,
     "metadata": {},
     "output_type": "execute_result"
    }
   ],
   "source": [
    "lin.fit(regdata[0], regdata[1])"
   ]
  },
  {
   "cell_type": "code",
   "execution_count": 10,
   "metadata": {
    "collapsed": false
   },
   "outputs": [
    {
     "data": {
      "text/plain": [
       "array([ 42.85335573])"
      ]
     },
     "execution_count": 10,
     "metadata": {},
     "output_type": "execute_result"
    }
   ],
   "source": [
    "lin.coef_"
   ]
  },
  {
   "cell_type": "code",
   "execution_count": 11,
   "metadata": {
    "collapsed": false
   },
   "outputs": [
    {
     "data": {
      "text/plain": [
       "-1.6283636540614521"
      ]
     },
     "execution_count": 11,
     "metadata": {},
     "output_type": "execute_result"
    }
   ],
   "source": [
    "lin.intercept_"
   ]
  },
  {
   "cell_type": "code",
   "execution_count": 12,
   "metadata": {
    "collapsed": false
   },
   "outputs": [
    {
     "data": {
      "text/plain": [
       "0.80333572865564484"
      ]
     },
     "execution_count": 12,
     "metadata": {},
     "output_type": "execute_result"
    }
   ],
   "source": [
    "lin.score(regdata[0],regdata[1])"
   ]
  },
  {
   "cell_type": "code",
   "execution_count": 13,
   "metadata": {
    "collapsed": false
   },
   "outputs": [
    {
     "data": {
      "text/plain": [
       "<matplotlib.collections.PathCollection at 0x10a4bca90>"
      ]
     },
     "execution_count": 13,
     "metadata": {},
     "output_type": "execute_result"
    },
    {
     "data": {
      "image/png": "[encoded data removed]",
      "text/plain": [
       "<matplotlib.figure.Figure at 0x10a3f65d0>"
      ]
     },
     "metadata": {},
     "output_type": "display_data"
    }
   ],
   "source": [
    "plt.scatter(regdata[0], regdata[1])"
   ]
  },
  {
   "cell_type": "code",
   "execution_count": 14,
   "metadata": {
    "collapsed": false
   },
   "outputs": [
    {
     "data": {
      "text/plain": [
       "[<matplotlib.lines.Line2D at 0x10a4d0890>]"
      ]
     },
     "execution_count": 14,
     "metadata": {},
     "output_type": "execute_result"
    },
    {
     "data": {
      "image/png": "[encoded data removed]",
      "text/plain": [
       "<matplotlib.figure.Figure at 0x10a4d0550>"
      ]
     },
     "metadata": {},
     "output_type": "display_data"
    }
   ],
   "source": [
    "xr = [-2.5,2.5]\n",
    "plt.scatter(regdata[0], regdata[1])\n",
    "plt.plot(xr, lin.coef_ * xr +lin.intercept_)"
   ]
  }
 ],
 "metadata": {
  "kernelspec": {
   "display_name": "Python 2",
   "language": "python",
   "name": "python2"
  },
  "language_info": {
   "codemirror_mode": {
    "name": "ipython",
    "version": 2
   },
   "file_extension": ".py",
   "mimetype": "text/x-python",
   "name": "python",
   "nbconvert_exporter": "python",
   "pygments_lexer": "ipython2",
   "version": "2.7.10"
  }
 },
 "nbformat": 4,
 "nbformat_minor": 0
}
